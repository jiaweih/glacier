{
 "metadata": {
  "name": "",
  "signature": "sha256:764548b73b988014c0dfe99cb8ac318657d3e743fc07818baf6be8ba9311d3eb"
 },
 "nbformat": 3,
 "nbformat_minor": 0,
 "worksheets": [
  {
   "cells": [
    {
     "cell_type": "code",
     "collapsed": false,
     "input": [
      "import numpy as np\n",
      "import os"
     ],
     "language": "python",
     "metadata": {},
     "outputs": [],
     "prompt_number": 1
    },
    {
     "cell_type": "code",
     "collapsed": false,
     "input": [
      "1 in range(5)"
     ],
     "language": "python",
     "metadata": {},
     "outputs": [
      {
       "metadata": {},
       "output_type": "pyout",
       "prompt_number": 18,
       "text": [
        "True"
       ]
      }
     ],
     "prompt_number": 18
    },
    {
     "cell_type": "code",
     "collapsed": false,
     "input": [
      "'case_{}()'.format(1)"
     ],
     "language": "python",
     "metadata": {},
     "outputs": [
      {
       "metadata": {},
       "output_type": "pyout",
       "prompt_number": 19,
       "text": [
        "'case_1()'"
       ]
      }
     ],
     "prompt_number": 19
    },
    {
     "cell_type": "code",
     "collapsed": false,
     "input": [
      "## case = {0: case_0, 1: case_1, 2: case_2, 3: case_3, 4: case_4}"
     ],
     "language": "python",
     "metadata": {},
     "outputs": [],
     "prompt_number": 27
    },
    {
     "cell_type": "code",
     "collapsed": false,
     "input": [
      "def model_params(MODEL):\n",
      "    if MODEL in range(5):\n",
      "        ## = case[MODEL]()\n",
      "    else:\n",
      "        print 'main_forward(): Unprogrammed MODEL'"
     ],
     "language": "python",
     "metadata": {},
     "outputs": []
    },
    {
     "cell_type": "code",
     "collapsed": false,
     "input": [
      "def read_mat(infile):\n",
      "    mat = scipy.io.loadmat(infile)\n",
      "    B = mat['B']\n",
      "    b_dot = mat['b_dot']\n",
      "    dx = mat['dx']\n",
      "    dy = mat['dy']\n",
      "    i = mat['i'][0,0] ##\n",
      "    j = mat['j'][0,0] ##\n",
      "    nx = mat['nx'][0,0]\n",
      "    ny = mat['ny'][0,0]\n",
      "    return B,b_dot,dx,dy,ny,nx"
     ],
     "language": "python",
     "metadata": {},
     "outputs": []
    },
    {
     "cell_type": "code",
     "collapsed": false,
     "input": [
      "a = [[1,2,3],[4,0,6]]\n",
      "min(a)"
     ],
     "language": "python",
     "metadata": {},
     "outputs": [
      {
       "metadata": {},
       "output_type": "pyout",
       "prompt_number": 30,
       "text": [
        "[1, 2, 3]"
       ]
      }
     ],
     "prompt_number": 30
    },
    {
     "cell_type": "code",
     "collapsed": false,
     "input": [
      "min(a[:])"
     ],
     "language": "python",
     "metadata": {},
     "outputs": [
      {
       "metadata": {},
       "output_type": "pyout",
       "prompt_number": 31,
       "text": [
        "[1, 2, 3]"
       ]
      }
     ],
     "prompt_number": 31
    },
    {
     "cell_type": "code",
     "collapsed": false,
     "input": [
      "np.min(a)"
     ],
     "language": "python",
     "metadata": {},
     "outputs": [
      {
       "metadata": {},
       "output_type": "pyout",
       "prompt_number": 34,
       "text": [
        "0"
       ]
      }
     ],
     "prompt_number": 34
    },
    {
     "cell_type": "code",
     "collapsed": false,
     "input": [
      "def case_0():\n",
      "    run_str = 'Toy model'\n",
      "    dt = 1000\n",
      "    dt_SAVE = 5*dt\n",
      "    t_STOP = 25000\n",
      "    \n",
      "    ny = 11\n",
      "    nx = 11\n",
      "    N = nx*ny\n",
      "    \n",
      "    dx = 100    ### 200\n",
      "    dy = 100    ### 200\n",
      "    \n",
      "    x = np.linspace(0, dx*(nx - 1), nx)\n",
      "    y = np.linspace(dx*(ny - 1), 0, ny)\n",
      "    \n",
      "    L_x = dx*(nx - 1)\n",
      "    L_y = dy*(ny - 1)\n",
      "    \n",
      "    R0 = 0.5*L_x\n",
      "    \n",
      "    x_c = 0.5*L_x\n",
      "    y_c = 0.5*L_y\n",
      "    \n",
      "    x, y = np.meshgrid(x,y)\n",
      "    \n",
      "    Z0 = 2000\n",
      "    sigma_x = x_c\n",
      "    sigma_y = y_c\n",
      "#    R2 = (X-x_c).^2 + (Y-y_c).^2\n",
      "#    B = Z0*exp(-R2/R0^2)\n",
      "    \n",
      "    B_min = np.min(B)   ##\n",
      "    B_max = np.max(B)   ##\n",
      "    b_dot_melt = -2 + 2*(B - B_min)/(B_max - B_min)\n",
      "    b_dot_ppt = 1\n",
      "    b_dot = b_dot_melt + b_dot_ppt\n",
      "    \n",
      "    B[5,6] = B[5,6] - 100\n",
      "    B[6,6] = B[6,6] + 100\n",
      "    B[7,6] = B[7,6] - 100\n",
      "    \n",
      "    B[6,5] = B[6,5] + 200\n",
      "    B[6,7] = B[6,7] + 200\n",
      "    \n",
      "    B = B + 5000"
     ],
     "language": "python",
     "metadata": {},
     "outputs": [],
     "prompt_number": 24
    },
    {
     "cell_type": "code",
     "collapsed": false,
     "input": [
      "def case_1():\n",
      "    run_str = 'problem_1'\n",
      "    file_dat = '{}.mat'.format(run_str)\n",
      "    B,b_dot,dx,dy,ny,nx = read_mat(file_dat)\n",
      "    \n",
      "    t_STOP = 500\n",
      "    dt_SAVE = 5*t_STOP\n",
      "    dt = 1\n",
      "    return #####"
     ],
     "language": "python",
     "metadata": {},
     "outputs": [],
     "prompt_number": 22
    },
    {
     "cell_type": "code",
     "collapsed": false,
     "input": [
      "def case_2():\n",
      "    run_str = 'problem_1 - ascii'\n",
      "    file_dat = os.path.join('/', 'data', 'LettenmaierCoupledModel', 'Onestep', 'v_200', 'data', 'problem_1.dat')\n",
      " ##   [B, b_dot, dx, dy, ny, nx] = LoadAsciiData(file_dat);\n",
      "    t_STOP = 500\n",
      "    dt_SAVE = 5*t_STOP\n",
      "    dt = 1\n",
      "    return #####"
     ],
     "language": "python",
     "metadata": {},
     "outputs": []
    },
    {
     "cell_type": "code",
     "collapsed": false,
     "input": [
      "def case_3():\n",
      "    run_str = 'mb4_spin1'\n",
      "    file_dat = os.path.join('M:', 'DHSVM', 'washington', 'cascade','spin','{}.mat'.format(run_str)) #####\n",
      "    B,b_dot,dx,dy,ny,nx = read_mat(file_dat)\n",
      "    \n",
      "    t_STOP = 1000\n",
      "    dt_SAVE = 5*t_STOP\n",
      "    dt = 0.08333"
     ],
     "language": "python",
     "metadata": {},
     "outputs": []
    },
    {
     "cell_type": "code",
     "collapsed": false,
     "input": [
      "def case_4():\n",
      "    run_str = 'manipulate9_mth'\n",
      "    file_dat = os.path.join('M:', 'DHSVM', 'bolivia', 'spinup', 'spin_up','{}.mat'.format(run_str))\n",
      "    B,b_dot,dx,dy,ny,nx = read_mat(file_dat)\n",
      "    \n",
      "    t_STOP = 12000\n",
      "    dt_SAVE = 5*t_STOP\n",
      "    dt = 1.0\n",
      "    return #####"
     ],
     "language": "python",
     "metadata": {},
     "outputs": []
    },
    {
     "cell_type": "code",
     "collapsed": false,
     "input": [
      "def physical_params():\n",
      "    '''\n",
      "    Define physical parameters (here assuming EISMINT-1 values)\n",
      "    '''\n",
      "\n",
      "    n_GLEN = 3          # Glen's flow law exponent\n",
      "    A_GLEN = 7.5738e-17 #6.05904e-18; Monthly #7.5738e-17 Cuffey & Paterson (4th ed) Glen's law parameter in Pa^{-3} yr^{-1} units (same as A_GLEN=2.4e-24 Pa^{-3} s^{-1})\n",
      "\n",
      "    m_SLIDE = 2        # Sliding law exponent\n",
      "    C_SLIDE = 0    # 1.0e-08;  # 1.0e-06;  # Sliding coefficient in Pa, metre,(Year units)\n",
      "\n",
      "    RHO = 900   # Density (SI units)\n",
      "    g = 9.80    # Gravity (SI units, rho*g has units of Pa)\n",
      "    K_eps = 1.0e-12\n",
      "\n",
      "    OMEGA = 1.5  # 1.6\n",
      "    \n",
      "    return n_GLEN,A_GLEN,m_SLIDE,C_SLIDE,RHO,g,K_eps,OMEGA"
     ],
     "language": "python",
     "metadata": {},
     "outputs": []
    },
    {
     "cell_type": "code",
     "collapsed": false,
     "input": [
      "disp('==================================================================================')\n",
      "fprintf(1,'LAUNCHING GLACIER SIMULATION MODEL - Ver 5.01 using the %s solver\\n\\n', METHOD);\n",
      "fprintf(1,'  OMEGA      = {%.2f}'.format(OMEGA);\n",
      "fprintf(1,'  dt         = {%.2f} yr\\n'.format(dt);\n",
      "fprintf(1,'  A_GLEN     = {%e}\\n'.format(A_GLEN);\n",
      "fprintf(1,'  C_SLIDE    = {%e}\\n'.format(C_SLIDE);\n",
      "fprintf(1,'  nx         = {%d}\\n'.format(nx);\n",
      "fprintf(1,'  ny         = {%d}\\n'.format(ny);\n",
      "if ~isempty(findstr(METHOD, 'ADI'))\n",
      "  fprintf(1,'  ADI METHOD = %s\\n', ADI_METHOD);\n",
      "end  \n",
      "disp('==================================================================================')"
     ],
     "language": "python",
     "metadata": {},
     "outputs": []
    },
    {
     "cell_type": "code",
     "collapsed": false,
     "input": [
      "def print_out(METHOD,OMEGA,dt,A_GLEN,C_SLIDE,nx,ny):\n",
      "    print '=================================================================================='\n",
      "    print 'LAUNCHING GLACIER SIMULATION MODEL - Ver 5.01 using the {:s} solver\\n\\n'.format(METHOD)\n",
      "    print '  OMEGA      = {:.2f}\\n'.format(OMEGA)\n",
      "    print '  dt         = {:.2f} yr\\n'.format(dt)\n",
      "    print '  A_GLEN     = {:e}\\n'.format(A_GLEN)\n",
      "    print '  C_SLIDE    = {:e}\\n'.format(C_SLIDE)\n",
      "    print '  nx         = {:d}\\n'.format(nx)\n",
      "    print '  ny         = {:d}\\n'.format(ny)\n",
      "    if METHOD.find('ADI') != -1:\n",
      "        print '  ADI METHOD = {%s}\\n'.format(ADI_METHOD)\n",
      "    print '=================================================================================='"
     ],
     "language": "python",
     "metadata": {},
     "outputs": [],
     "prompt_number": 44
    },
    {
     "cell_type": "code",
     "collapsed": false,
     "input": [
      "print_out('methoud',2.345,3.56,222222,322222,4,5)"
     ],
     "language": "python",
     "metadata": {},
     "outputs": [
      {
       "output_type": "stream",
       "stream": "stdout",
       "text": [
        "==================================================================================\n",
        "LAUNCHING GLACIER SIMULATION MODEL - Ver 5.01 using the methoud solver\n",
        "\n",
        "\n",
        "  OMEGA      = 2.35\n",
        "\n",
        "  dt         = 3.56 yr\n",
        "\n",
        "  A_GLEN     = 2.222220e+05\n",
        "\n",
        "  C_SLIDE    = 3.222220e+05\n",
        "\n",
        "  nx         = 4\n",
        "\n",
        "  ny         = 5\n",
        "\n",
        "==================================================================================\n"
       ]
      }
     ],
     "prompt_number": 45
    },
    {
     "cell_type": "code",
     "collapsed": false,
     "input": [
      "import scipy.io\n",
      "mat = scipy.io.loadmat('mb4_spin1.mat')"
     ],
     "language": "python",
     "metadata": {},
     "outputs": [],
     "prompt_number": 2
    },
    {
     "cell_type": "code",
     "collapsed": false,
     "input": [
      "type(mat)"
     ],
     "language": "python",
     "metadata": {},
     "outputs": [
      {
       "metadata": {},
       "output_type": "pyout",
       "prompt_number": 8,
       "text": [
        "dict"
       ]
      }
     ],
     "prompt_number": 8
    },
    {
     "cell_type": "code",
     "collapsed": false,
     "input": [
      "mat"
     ],
     "language": "python",
     "metadata": {},
     "outputs": [
      {
       "metadata": {},
       "output_type": "pyout",
       "prompt_number": 3,
       "text": [
        "{'B': array([[  680.8218,   693.7878,   719.5477, ...,  1689.533 ,  1696.824 ,\n",
        "          1711.151 ],\n",
        "        [  659.343 ,   672.5099,   690.7256, ...,  1657.911 ,  1665.925 ,\n",
        "          1681.24  ],\n",
        "        [  640.8013,   650.8491,   664.2988, ...,  1635.786 ,  1637.712 ,\n",
        "          1647.234 ],\n",
        "        ..., \n",
        "        [  287.5097,   281.5602,   273.2893, ...,  1972.905 ,  1937.973 ,\n",
        "          1914.182 ],\n",
        "        [  290.7469,   284.1582,   275.0416, ...,  1983.625 ,  1952.967 ,\n",
        "          1931.068 ],\n",
        "        [  294.3474,   284.8375,   275.1975, ...,  1984.356 ,  1972.016 ,\n",
        "          1957.199 ]]),\n",
        " '__globals__': [],\n",
        " '__header__': 'MATLAB 5.0 MAT-file, Platform: PCWIN64, Created on: Tue Feb 10 08:52:02 2015',\n",
        " '__version__': '1.0',\n",
        " 'b_dot': array([[-25., -25., -25., ..., -25., -25., -25.],\n",
        "        [-25., -25., -25., ..., -25., -25., -25.],\n",
        "        [-25., -25., -25., ..., -25., -25., -25.],\n",
        "        ..., \n",
        "        [-25., -25., -25., ..., -25., -25., -25.],\n",
        "        [-25., -25., -25., ..., -25., -25., -25.],\n",
        "        [-25., -25., -25., ..., -25., -25., -25.]]),\n",
        " 'dx': array([[50]], dtype=uint8),\n",
        " 'dy': array([[50]], dtype=uint8),\n",
        " 'i': array([[610]], dtype=uint16),\n",
        " 'j': array([[678]], dtype=uint16),\n",
        " 'laconte': array([[-9999, -9999, -9999, ..., -9999, -9999, -9999],\n",
        "        [-9999, -9999, -9999, ..., -9999, -9999, -9999],\n",
        "        [-9999, -9999, -9999, ..., -9999, -9999, -9999],\n",
        "        ..., \n",
        "        [-9999, -9999, -9999, ..., -9999, -9999, -9999],\n",
        "        [-9999, -9999, -9999, ..., -9999, -9999, -9999],\n",
        "        [-9999, -9999, -9999, ..., -9999, -9999, -9999]], dtype=int16),\n",
        " 'mb4balance_sum': array([[-300., -300., -300., ..., -300., -300., -300.],\n",
        "        [-300., -300., -300., ..., -300., -300., -300.],\n",
        "        [-300., -300., -300., ..., -300., -300., -300.],\n",
        "        ..., \n",
        "        [-300., -300., -300., ..., -300., -300., -300.],\n",
        "        [-300., -300., -300., ..., -300., -300., -300.],\n",
        "        [-300., -300., -300., ..., -300., -300., -300.]]),\n",
        " 'new_dem': array([[  680.8218,   693.7878,   719.5477, ...,  1689.533 ,  1696.824 ,\n",
        "          1711.151 ],\n",
        "        [  659.343 ,   672.5099,   690.7256, ...,  1657.911 ,  1665.925 ,\n",
        "          1681.24  ],\n",
        "        [  640.8013,   650.8491,   664.2988, ...,  1635.786 ,  1637.712 ,\n",
        "          1647.234 ],\n",
        "        ..., \n",
        "        [  287.5097,   281.5602,   273.2893, ...,  1972.905 ,  1937.973 ,\n",
        "          1914.182 ],\n",
        "        [  290.7469,   284.1582,   275.0416, ...,  1983.625 ,  1952.967 ,\n",
        "          1931.068 ],\n",
        "        [  294.3474,   284.8375,   275.1975, ...,  1984.356 ,  1972.016 ,\n",
        "          1957.199 ]]),\n",
        " 'nx': array([[678]], dtype=uint16),\n",
        " 'ny': array([[610]], dtype=uint16)}"
       ]
      }
     ],
     "prompt_number": 3
    },
    {
     "cell_type": "code",
     "collapsed": false,
     "input": [
      "mat.keys()"
     ],
     "language": "python",
     "metadata": {},
     "outputs": [
      {
       "metadata": {},
       "output_type": "pyout",
       "prompt_number": 5,
       "text": [
        "['B',\n",
        " '__globals__',\n",
        " 'i',\n",
        " 'laconte',\n",
        " 'new_dem',\n",
        " 'dy',\n",
        " '__header__',\n",
        " 'mb4balance_sum',\n",
        " 'nx',\n",
        " 'ny',\n",
        " 'j',\n",
        " 'dx',\n",
        " 'b_dot',\n",
        " '__version__']"
       ]
      }
     ],
     "prompt_number": 5
    },
    {
     "cell_type": "code",
     "collapsed": false,
     "input": [
      "mat['B']"
     ],
     "language": "python",
     "metadata": {},
     "outputs": [
      {
       "metadata": {},
       "output_type": "pyout",
       "prompt_number": 9,
       "text": [
        "array([[  680.8218,   693.7878,   719.5477, ...,  1689.533 ,  1696.824 ,\n",
        "         1711.151 ],\n",
        "       [  659.343 ,   672.5099,   690.7256, ...,  1657.911 ,  1665.925 ,\n",
        "         1681.24  ],\n",
        "       [  640.8013,   650.8491,   664.2988, ...,  1635.786 ,  1637.712 ,\n",
        "         1647.234 ],\n",
        "       ..., \n",
        "       [  287.5097,   281.5602,   273.2893, ...,  1972.905 ,  1937.973 ,\n",
        "         1914.182 ],\n",
        "       [  290.7469,   284.1582,   275.0416, ...,  1983.625 ,  1952.967 ,\n",
        "         1931.068 ],\n",
        "       [  294.3474,   284.8375,   275.1975, ...,  1984.356 ,  1972.016 ,\n",
        "         1957.199 ]])"
       ]
      }
     ],
     "prompt_number": 9
    },
    {
     "cell_type": "code",
     "collapsed": false,
     "input": [
      "np.shape(mat['B'])"
     ],
     "language": "python",
     "metadata": {},
     "outputs": [
      {
       "metadata": {},
       "output_type": "pyout",
       "prompt_number": 10,
       "text": [
        "(610, 678)"
       ]
      }
     ],
     "prompt_number": 10
    },
    {
     "cell_type": "code",
     "collapsed": false,
     "input": [
      "mat['i']"
     ],
     "language": "python",
     "metadata": {},
     "outputs": [
      {
       "metadata": {},
       "output_type": "pyout",
       "prompt_number": 12,
       "text": [
        "array([[610]], dtype=uint16)"
       ]
      }
     ],
     "prompt_number": 12
    },
    {
     "cell_type": "code",
     "collapsed": false,
     "input": [
      "np.shape(mat['i'])"
     ],
     "language": "python",
     "metadata": {},
     "outputs": [
      {
       "metadata": {},
       "output_type": "pyout",
       "prompt_number": 13,
       "text": [
        "(1, 1)"
       ]
      }
     ],
     "prompt_number": 13
    }
   ],
   "metadata": {}
  }
 ]
}